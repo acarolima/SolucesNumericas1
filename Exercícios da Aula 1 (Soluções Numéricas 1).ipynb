{
 "cells": [
  {
   "cell_type": "markdown",
   "metadata": {},
   "source": [
    "$ {\\bf Exercicio} $  $ {\\bf 1:} $  Resolver a EDO $ y' $ = $ -[y(t)]² + y(t) $ com solução geral $ y(t) = \\dfrac {1}{1+ce^{-t}} $ para $ y(0) = 4 $  e  plotar  o  gráfico."
   ]
  },
  {
   "cell_type": "markdown",
   "metadata": {},
   "source": [
    "$ {\\bf Solução:} $\n",
    "\n",
    "\n",
    "$ 4 = \\dfrac {1}{1+ce^{-1}} $\n",
    "\n",
    "\n",
    "$ 4 = \\dfrac {1}{1+c} $\n",
    "\n",
    "\n",
    "$ c = -\\dfrac {3}{4} = -0.75 $"
   ]
  },
  {
   "cell_type": "code",
   "execution_count": 5,
   "metadata": {},
   "outputs": [
    {
     "data": {
      "text/plain": [
       "[<matplotlib.lines.Line2D at 0x2521f84b400>]"
      ]
     },
     "execution_count": 5,
     "metadata": {},
     "output_type": "execute_result"
    },
    {
     "data": {
      "image/png": "[encoded data removed]",
      "text/plain": [
       "<Figure size 432x288 with 1 Axes>"
      ]
     },
     "metadata": {
      "needs_background": "light"
     },
     "output_type": "display_data"
    }
   ],
   "source": [
    "import numpy as np \n",
    "import matplotlib . pyplot as plt\n",
    "\n",
    "t = np.linspace (0, 6, 100)\n",
    "#C = [-0.8, -0.5, -0.4, 0, 0.5, 1, 0, 2.5]\n",
    "c = -3/4\n",
    "\n",
    "#for c in C:\n",
    "    #if c != 0:\n",
    "plt.plot (1./(1 + c*np . exp(-t)), 'r')\n",
    "        #else :\n",
    "          #plt . plot (t ,0*t,'k--')"
   ]
  },
  {
   "cell_type": "markdown",
   "metadata": {},
   "source": [
    "$ {\\bf Exercicio} $ ${\\bf 2:} $ Usando  o  código  acima, verifique  o  que  ocorre  com  o  gráfico  de  y(t)  para  valores  no  intervalo  $ -1 < c  {\\leq }  -0.8 $"
   ]
  },
  {
   "cell_type": "code",
   "execution_count": 6,
   "metadata": {},
   "outputs": [
    {
     "data": {
      "image/png": "[encoded data removed]",
      "text/plain": [
       "<Figure size 432x288 with 1 Axes>"
      ]
     },
     "metadata": {
      "needs_background": "light"
     },
     "output_type": "display_data"
    }
   ],
   "source": [
    "import numpy as np \n",
    "import matplotlib . pyplot as plt\n",
    "\n",
    "t = np. linspace (0, 6, 100)\n",
    "\n",
    "C = [-0.1, -0.2, -0.3, -0.4, -0.5, -0.6, -0.75, -0.8]\n",
    "\n",
    "for c in C:\n",
    "    if c !=0:\n",
    "        plt . plot (t, 1./(1 + c*np. exp(-t)))\n",
    "    #else:\n",
    "    #plt . plot (t, 0*t, 'k--')"
   ]
  },
  {
   "cell_type": "markdown",
   "metadata": {},
   "source": [
    "$ {\\bf Exercicio} $ $ {\\bf 3:} $ O  que  ocorre  se  c < -1  ?\n",
    "\n",
    "Se  c  assumir  valores  negativos  t  tende  ao  $  -{\\infty} $  e  a  função  se  aproxima  de  0."
   ]
  },
  {
   "cell_type": "markdown",
   "metadata": {},
   "source": [
    "$ {\\bf Prolemas} $  $ {\\bf 1:} $  Para  cada  PVI  a  seguir,  mostre  que  dada  a solução $ {\\bf y(t)} $ satisfaz  a EDO  associada.  Então,  determine    o valor de  ${\\bf c}$  para  cada  caso.\n",
    "\n",
    "\n",
    "$ {\\bf Caso} $  $ {\\bf 1:} $\n",
    "\n",
    "$ {\\lbrace} $  $  {y' = -y + sen(t) + cos(t)}$ ,$ {y(0) = 1} $\n",
    "\n",
    "$ {\\bf Solução:} $ $ {y(t) = sen(t) + ce^{-t}} $"
   ]
  },
  {
   "cell_type": "markdown",
   "metadata": {},
   "source": [
    "$ {\\bf Resolvendo} $  $ {\\bf a} $  $ {\\bf EDO:} $\n",
    "\n",
    "$ {\\dfrac {dy}{dt} = -y + sen(t) + cos(t)} $\n",
    "$ {dy = -y + sen(t) + cos(t)dt} $\n",
    "$ {dy + y = sen(t) + cos(t)dt} $\n",
    "\n",
    "$ {\\bf Fator} $  $ {\\bf Integrante:} $\n",
    "\n",
    "$ {\\mu} $ $ {(t)} $ ${=}$ $ {\\epsilon}^{\\int p(t)dt} $ ${=}$  ${\\epsilon}^{\\int 1dt}$ ${=}$ ${\\epsilon}^{t}$\n",
    "\n",
    "${\\epsilon}^{t}{\\dfrac {dy}{dt}}$  ${+}$ $ {\\epsilon}^{t}{y}$ ${=}$  ${\\epsilon}^{t}{sen(t)}$  ${+}$  ${\\epsilon}^{t}{cos(t)}$\n",
    "\n",
    "Logo,\n",
    "\n",
    "${\\int}{\\dfrac {dy}{dt}}({\\epsilon}^{t}{y(t)})$ ${=}$ ${\\int}{\\epsilon}^{t}{sen(t)}$ ${+}$ ${\\epsilon}^{t}{cos(t)}$\n",
    "\n",
    "${\\epsilon}^{t}{y(t)}$ ${=}$ ${\\epsilon}^{t}{sen(t)}$ ${+}$ ${c}$\n",
    "\n",
    "${y(t)}$ ${=}$ ${\\dfrac {{\\epsilon}^{t}{sen(t) + c}}{{\\epsilon}^{t}}}$ \n",
    "\n",
    "${y(t)}$ ${=}$ ${sen(t)}$ ${+}$ ${c{\\epsilon}^{-t}}$  ,sendo a  ${\\bf Solução}$ ${\\bf Geral}$ \n",
    "\n",
    "${\\bf Aplicando}$ ${\\bf o}$ ${\\bf valor}$ ${\\bf inicial:}$\n",
    "\n",
    "${1 = sen(0) + c{\\epsilon}^{0}}$ ${\\Rightarrow}$   ${c = 1.}$ \n",
    "\n",
    "${Logo,}$ ${a}$  ${\\bf Solução}$  ${\\bf Particular}$ ${para}$ ${esse}$ ${caso:}$ ${y(t)}$ ${=}$ ${sen(t) + {\\epsilon}^{-t}.}$\n",
    "\n"
   ]
  },
  {
   "cell_type": "markdown",
   "metadata": {},
   "source": [
    "${\\bf Caso}$ ${\\bf 2:}$\n",
    "\n",
    "${\\lbrace}$ ${y' =}$ ${\\dfrac {(y - y^{2})}{t},}$ ${y(1) = 2}$ \n",
    "\n",
    "${\\bf Solução:}$ ${y(t) =}$ ${\\dfrac {t}{t + c},}$ ${t >{0}}$\n",
    "\n",
    "${\\bf Resolvendo}$ ${\\bf a}$ ${\\bf EDO:}$\n",
    "\n",
    "${\\dfrac {dy}{(y - y^{2})}}$ ${=}$ ${\\dfrac {dt}{t}}$ ${\\Rightarrow}$ ${(\\dfrac {1}{y}}$ ${-}$ ${\\dfrac {1}{y - 1})}$ ${dy}$ ${=}$ ${\\dfrac {dt}{t}.}$ ${Aplicando}$ ${a}$ ${integral}$ ${em}$ ${ambos}$ ${os}$ ${lados}$ ${e}$ ${integrando,}$ ${temos:}$\n",
    "\n",
    "${\\int}{\\dfrac {1}{y}}$ ${dy}$ ${-}$ ${\\int}{\\dfrac {1}{y - 1}}$ ${dy}$ ${=}$ ${\\int}{\\dfrac {dt}{t}}$ ${\\Rightarrow}$ ${ln(y)}$ ${-}$ ${ln(y - 1)}$ ${=}$ ${ln(t)}$ ${+}$ ${c}$\n",
    "\n",
    "${Aplicando}$ ${ln(y + 1)}$ ${em}$ ${ambos}$ ${os}$ ${lados,}$ ${temos:}$\n",
    "\n",
    "${ln(y)}$ ${-}$ ${ln(y - 1)}$ ${+}$ ${ln(y + 1)}$ ${=}$ ${ln(t)}$ ${+}$ ${ln(y + 1)}$ ${+}$ ${c}$\n",
    "\n",
    "${ln(y)}$ ${=}$ ${ln(t)}$ ${+}$ ${ln(y + 1)}$ ${+}$ ${c}$\n",
    "\n",
    "${\\epsilon}^{ln(y)}$ ${=}$ ${\\epsilon}^{ln(t) + ln(y + 1) + c}$ \n",
    "\n",
    "${y}$ ${=}$ ${ct(y + 1)}$\n",
    "\n",
    "${y}$ ${=}$ ${cty}$ ${+}$ ${ct}$\n",
    "\n",
    "${\\bf y}$ ${\\bf =}$ ${\\bf \\dfrac {t}{t + c},}$ ${t > 0}$ ${sendo}$ ${a}$ ${\\bf Solução}$ ${\\bf Geral}$\n",
    "\n",
    "${\\bf Aplicando}$ ${\\bf o}$ ${\\bf valor}$ ${\\bf inicial:}$ \n",
    "\n",
    "${2}$ ${=}$ ${\\dfrac {1}{1 + c}}$ ${\\Rightarrow}$ ${c}$ ${=}$ ${-\\dfrac {1}{2}.}$\n",
    "\n",
    "Logo,\n",
    "\n",
    "${y(t)}$ ${\\dfrac {t}{t - {\\dfrac {1}{2}}}}$ ${=}$ ${\\dfrac {2t}{2t - 1},}$ é a ${\\bf Solução}$ ${\\bf Particular}$\n",
    "\n"
   ]
  },
  {
   "cell_type": "markdown",
   "metadata": {},
   "source": [
    "${\\bf Caso}$ ${\\bf 3:}$ \n",
    "\n",
    "${\\lbrace}$ ${y'}$ ${=}$ ${cos^{2}(y),}$ ${y(0)}$ ${=}$ ${\\dfrac {\\pi}{4}}$\n",
    "\n",
    "${\\bf Solução:}$ ${y(t)}$ ${=}$ ${arctan(t + c)}$\n",
    "\n",
    "${\\bf Resolvendo}$ ${\\bf a}$ ${\\bf EDO:}$\n",
    "\n",
    "${dy}$ ${=}$ ${cos^{2}(y)dt}$. ${Aplicando}$ ${a}$ ${integral}$ ${em}$ ${ambos}$ ${os}$ ${lados}$ ${e}$ ${integrando,}$ ${temos:}$ \n",
    "\n",
    "${\\int}{\\dfrac {dy}{cos^{2}(y)}}$ ${=}$ ${\\int}dt$\n",
    "\n",
    "${tan(y)}$ ${=}$ ${t + c}$ ${\\Rightarrow}$ ${y}$ ${=}$ ${arctan(t + c),}$ ${sendo}$ ${a}$ ${\\bf Solução}$ ${\\bf Geral}$ \n",
    "\n",
    "${\\bf Aplicando}$ ${\\bf o}$ ${\\bf valor}$ ${\\bf inicial}$\n",
    "\n",
    "${\\dfrac {\\pi}{4}}$ ${=}$ ${arctan(c).}$\n",
    "\n",
    "Logo, se o ${arctan(y)}$ ${a}$ ${\\Rightarrow}$ ${y}$ ${=}$ ${tan(a),}$ então ${a}$ ${=}$ ${tan ({\\dfrac {\\pi}{4})}}$ ${\\Rightarrow}$ ${c = 1.}$\n",
    "\n",
    "Temos então, ${y(t)}$ ${=}$ ${arctan(t + 1)}$ ${arctan(t + c),}$ ${sendo}$ ${a}$ ${\\bf Solução}$ ${\\bf Particular}$ \n",
    "  \n"
   ]
  },
  {
   "cell_type": "markdown",
   "metadata": {},
   "source": [
    "${\\bf Problema}$ ${\\bf 2:}$ Resolver os PVI's usando a função ${odeint}$ e verificar se a solução ${w(t)}$ se aproxima da solução analítica ${y(t)}$ determinada. Escolher um intervalo de integração adequado."
   ]
  },
  {
   "cell_type": "code",
   "execution_count": 29,
   "metadata": {},
   "outputs": [
    {
     "data": {
      "text/plain": [
       "Text(0, 0.5, 'y')"
      ]
     },
     "execution_count": 29,
     "metadata": {},
     "output_type": "execute_result"
    },
    {
     "data": {
      "image/png": "[encoded data removed]",
      "text/plain": [
       "<Figure size 432x288 with 1 Axes>"
      ]
     },
     "metadata": {
      "needs_background": "light"
     },
     "output_type": "display_data"
    }
   ],
   "source": [
    "#------------------Caso 1-------------------\n",
    "\n",
    "import numpy as np\n",
    "import matplotlib.pyplot as plt\n",
    "from scipy.integrate import odeint\n",
    "\n",
    "# f(t,y)\n",
    "def f(t,y):\n",
    "    return -y+ np.sin(t) + np.cos(t)\n",
    "\n",
    "\n",
    "y0 = 1. # valor inicial\n",
    "a = 0.\n",
    "b = 3. # limites de integral\n",
    "c = 1/2.\n",
    "\n",
    "t = np.linspace (a, b, 20) # malha\n",
    "\n",
    "yexata = odeint (f, y0 , t) #y(t)\n",
    "plt.plot (t,yexata ,'ko-')\n",
    "#print (yexata)\n",
    "\n",
    "yaproximada = np.sin(t)+c*np.exp(-t)\n",
    "plt.plot (t, yaproximada, 'r')\n",
    "#print (yaproximada)\n",
    "\n",
    "plt.xlabel('t')\n",
    "plt.ylabel('y')"
   ]
  },
  {
   "cell_type": "code",
   "execution_count": 32,
   "metadata": {},
   "outputs": [
    {
     "data": {
      "text/plain": [
       "Text(0, 0.5, 'y')"
      ]
     },
     "execution_count": 32,
     "metadata": {},
     "output_type": "execute_result"
    },
    {
     "data": {
      "image/png": "[encoded data removed]",
      "text/plain": [
       "<Figure size 432x288 with 1 Axes>"
      ]
     },
     "metadata": {
      "needs_background": "light"
     },
     "output_type": "display_data"
    }
   ],
   "source": [
    "#---------------------Caso 2-------------------------\n",
    "\n",
    "import numpy as np\n",
    "import matplotlib.pyplot as plt\n",
    "from scipy.integrate import odeint\n",
    "\n",
    "# f(t,y)\n",
    "def f(t,y):\n",
    "    return (y-y**2)/t\n",
    "\n",
    "y0 = 2.  # valor inicial\n",
    "a = 1.\n",
    "b = 3. # limites de integral\n",
    "c = -1/2.\n",
    "\n",
    "t = np.linspace (a, b, 10) # malha\n",
    "\n",
    "#yexata = odeint (f, y1 , t) #y(t)\n",
    "yexata = odeint (f, y0 , t) #y(t)\n",
    "plt.plot (t,yexata ,'ko-')\n",
    "#print (yexata)\n",
    "\n",
    "yaproximada = t/(t+c)\n",
    "plt.plot (t, yaproximada, 'r')\n",
    "#print (yaproximada)\n",
    "\n",
    "plt.xlabel('t')\n",
    "plt.ylabel('y')"
   ]
  },
  {
   "cell_type": "code",
   "execution_count": 35,
   "metadata": {},
   "outputs": [
    {
     "data": {
      "text/plain": [
       "Text(0, 0.5, 'y')"
      ]
     },
     "execution_count": 35,
     "metadata": {},
     "output_type": "execute_result"
    },
    {
     "data": {
      "image/png": "[encoded data removed]",
      "text/plain": [
       "<Figure size 432x288 with 1 Axes>"
      ]
     },
     "metadata": {
      "needs_background": "light"
     },
     "output_type": "display_data"
    }
   ],
   "source": [
    "# -----------------------Caso 3-------------------------\n",
    "\n",
    "import numpy as np\n",
    "import matplotlib.pyplot as plt\n",
    "from scipy.integrate import odeint\n",
    "\n",
    "# f(t,y)\n",
    "def f(t,y):\n",
    "    return np.cos(y)**2\n",
    "\n",
    "y0 = np.pi/4 # valor inicial\n",
    "a = 6.\n",
    "b = 0. # limites de integral\n",
    "c = -6.\n",
    "\n",
    "t = np.linspace (a, b, 10) # malha\n",
    "\n",
    "yexata = odeint (f, y0 , t) #y(t)\n",
    "plt.plot (t,yexata ,'ko-')\n",
    "#print (yexata)\n",
    "\n",
    "yaproximada = np.arctan(t+c)\n",
    "plt.plot (t, yaproximada, 'r')\n",
    "#print (yaproximada)\n",
    "\n",
    "plt.xlabel('t')\n",
    "plt.ylabel('y')"
   ]
  },
  {
   "cell_type": "markdown",
   "metadata": {},
   "source": [
    "${\\bf Problema}$ ${\\bf 3:}$ Usar o critério da derivada para descutir o condicionamento do PVI:\n",
    "\n",
    "${\\lbrace}$ ${y'}$ ${=}$ ${y - 5sen(t) - 25cos^{2}(t),}$ ${y(0) = 6}$\n",
    "\n",
    "\n",
    "${\\bf Solução:}$ Em geral, um PVI será bem condicionado se o seguinte critério da derivada for satisfeito:\n",
    "\n",
    "${\\dfrac {\\partial f(t,y)}{\\partial y}}$ ${\\leq}$ 1, com ${t_0}$  ${\\leq}$ t  ${\\leq}$ b\n",
    "\n",
    "\n",
    "Verificando esse critério do PVI dado, temos: \n",
    "\n",
    "${\\dfrac {\\partial (y - 5sen(t) - 25cos^{2}(t))}{\\partial y}}$ ${=}$ ${1}$. Como ${1}$ é ${\\geq}$ ${0}$, logo o PVI não é bem condicionado.\n",
    "\n",
    "\n",
    "\n",
    "\n",
    "\n",
    "\n"
   ]
  },
  {
   "cell_type": "code",
   "execution_count": null,
   "metadata": {},
   "outputs": [],
   "source": []
  }
 ],
 "metadata": {
  "kernelspec": {
   "display_name": "Python 3",
   "language": "python",
   "name": "python3"
  },
  "language_info": {
   "codemirror_mode": {
    "name": "ipython",
    "version": 3
   },
   "file_extension": ".py",
   "mimetype": "text/x-python",
   "name": "python",
   "nbconvert_exporter": "python",
   "pygments_lexer": "ipython3",
   "version": "3.7.1"
  }
 },
 "nbformat": 4,
 "nbformat_minor": 2
}
